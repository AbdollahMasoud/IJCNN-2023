{
  "nbformat": 4,
  "nbformat_minor": 0,
  "metadata": {
    "colab": {
      "provenance": [],
      "authorship_tag": "ABX9TyNWuaIUFnNsQC4pcWZMAgT1",
      "include_colab_link": true
    },
    "kernelspec": {
      "name": "python3",
      "display_name": "Python 3"
    },
    "language_info": {
      "name": "python"
    }
  },
  "cells": [
    {
      "cell_type": "markdown",
      "metadata": {
        "id": "view-in-github",
        "colab_type": "text"
      },
      "source": [
        "<a href=\"https://colab.research.google.com/github/AbdollahMasoud/IJCNN-2023/blob/main/IJCNN_2023.ipynb\" target=\"_parent\"><img src=\"https://colab.research.google.com/assets/colab-badge.svg\" alt=\"Open In Colab\"/></a>"
      ]
    },
    {
      "cell_type": "code",
      "execution_count": 1,
      "metadata": {
        "colab": {
          "base_uri": "https://localhost:8080/"
        },
        "id": "n8W5CbbALK9-",
        "outputId": "bc525a13-a301-4a94-9c71-c9e4e9699ba8"
      },
      "outputs": [
        {
          "output_type": "stream",
          "name": "stdout",
          "text": [
            "Cloning into 'IJCNN-2023'...\n",
            "remote: Enumerating objects: 24, done.\u001b[K\n",
            "remote: Counting objects: 100% (24/24), done.\u001b[K\n",
            "remote: Compressing objects: 100% (23/23), done.\u001b[K\n",
            "remote: Total 24 (delta 8), reused 0 (delta 0), pack-reused 0\u001b[K\n",
            "Unpacking objects: 100% (24/24), 11.78 MiB | 5.85 MiB/s, done.\n"
          ]
        }
      ],
      "source": [
        "# Get Data from Repo\n",
        "!git clone 'https://github.com/AbdollahMasoud/IJCNN-2023'"
      ]
    },
    {
      "cell_type": "code",
      "source": [
        "# Extract Image Folders\n",
        "!unzip 'IJCNN-2023/Dataset.zip' -d '/content/'"
      ],
      "metadata": {
        "id": "AskNorK6LuzR"
      },
      "execution_count": null,
      "outputs": []
    },
    {
      "cell_type": "code",
      "source": [
        "# Adding Preliminaries\n",
        "\n",
        "!pip install catboost\n",
        "\n",
        "import gc\n",
        "import os\n",
        "import cv2\n",
        "import time\n",
        "import imutils\n",
        "import numpy as np\n",
        "import pandas as pd\n",
        "import xgboost as xgb\n",
        "import lightgbm as lgb\n",
        "import catboost as ctb\n",
        "from imutils import paths\n",
        "from statistics import mean \n",
        "from google.colab import drive\n",
        "import matplotlib.pyplot as plt\n",
        "from sklearn.utils import shuffle\n",
        "from datetime import datetime as dt\n",
        "from sklearn.decomposition import PCA\n",
        "from sklearn.model_selection import RepeatedKFold\n",
        "from sklearn.metrics import confusion_matrix, ConfusionMatrixDisplay"
      ],
      "metadata": {
        "colab": {
          "base_uri": "https://localhost:8080/"
        },
        "id": "cRSXUdcrMClx",
        "outputId": "f6e9ff85-370c-4876-ea8e-df6e5cd0665a"
      },
      "execution_count": 3,
      "outputs": [
        {
          "output_type": "stream",
          "name": "stdout",
          "text": [
            "Looking in indexes: https://pypi.org/simple, https://us-python.pkg.dev/colab-wheels/public/simple/\n",
            "Collecting catboost\n",
            "  Downloading catboost-1.1.1-cp39-none-manylinux1_x86_64.whl (76.6 MB)\n",
            "\u001b[2K     \u001b[90m━━━━━━━━━━━━━━━━━━━━━━━━━━━━━━━━━━━━━━━━\u001b[0m \u001b[32m76.6/76.6 MB\u001b[0m \u001b[31m8.3 MB/s\u001b[0m eta \u001b[36m0:00:00\u001b[0m\n",
            "\u001b[?25hRequirement already satisfied: scipy in /usr/local/lib/python3.9/dist-packages (from catboost) (1.10.1)\n",
            "Requirement already satisfied: plotly in /usr/local/lib/python3.9/dist-packages (from catboost) (5.13.1)\n",
            "Requirement already satisfied: matplotlib in /usr/local/lib/python3.9/dist-packages (from catboost) (3.7.1)\n",
            "Requirement already satisfied: six in /usr/local/lib/python3.9/dist-packages (from catboost) (1.16.0)\n",
            "Requirement already satisfied: numpy>=1.16.0 in /usr/local/lib/python3.9/dist-packages (from catboost) (1.22.4)\n",
            "Requirement already satisfied: graphviz in /usr/local/lib/python3.9/dist-packages (from catboost) (0.20.1)\n",
            "Requirement already satisfied: pandas>=0.24.0 in /usr/local/lib/python3.9/dist-packages (from catboost) (1.5.3)\n",
            "Requirement already satisfied: pytz>=2020.1 in /usr/local/lib/python3.9/dist-packages (from pandas>=0.24.0->catboost) (2022.7.1)\n",
            "Requirement already satisfied: python-dateutil>=2.8.1 in /usr/local/lib/python3.9/dist-packages (from pandas>=0.24.0->catboost) (2.8.2)\n",
            "Requirement already satisfied: fonttools>=4.22.0 in /usr/local/lib/python3.9/dist-packages (from matplotlib->catboost) (4.39.3)\n",
            "Requirement already satisfied: contourpy>=1.0.1 in /usr/local/lib/python3.9/dist-packages (from matplotlib->catboost) (1.0.7)\n",
            "Requirement already satisfied: importlib-resources>=3.2.0 in /usr/local/lib/python3.9/dist-packages (from matplotlib->catboost) (5.12.0)\n",
            "Requirement already satisfied: packaging>=20.0 in /usr/local/lib/python3.9/dist-packages (from matplotlib->catboost) (23.0)\n",
            "Requirement already satisfied: pyparsing>=2.3.1 in /usr/local/lib/python3.9/dist-packages (from matplotlib->catboost) (3.0.9)\n",
            "Requirement already satisfied: kiwisolver>=1.0.1 in /usr/local/lib/python3.9/dist-packages (from matplotlib->catboost) (1.4.4)\n",
            "Requirement already satisfied: cycler>=0.10 in /usr/local/lib/python3.9/dist-packages (from matplotlib->catboost) (0.11.0)\n",
            "Requirement already satisfied: pillow>=6.2.0 in /usr/local/lib/python3.9/dist-packages (from matplotlib->catboost) (8.4.0)\n",
            "Requirement already satisfied: tenacity>=6.2.0 in /usr/local/lib/python3.9/dist-packages (from plotly->catboost) (8.2.2)\n",
            "Requirement already satisfied: zipp>=3.1.0 in /usr/local/lib/python3.9/dist-packages (from importlib-resources>=3.2.0->matplotlib->catboost) (3.15.0)\n",
            "Installing collected packages: catboost\n",
            "Successfully installed catboost-1.1.1\n"
          ]
        }
      ]
    },
    {
      "cell_type": "code",
      "source": [
        "# Reading FRI Images\n",
        "imagePaths = list(paths.list_images(r\"/content/FRI\"))\n",
        "\n",
        "data = []\n",
        "labels = []\n",
        "\n",
        "for imagePath in imagePaths:\n",
        "  image = cv2.imread(imagePath,cv2.IMREAD_GRAYSCALE)\n",
        "  image = image[124:174,124:174]\n",
        "  data.append(image)\n",
        "  label = 1\n",
        "  labels.append(label)\n",
        "print(\"Loaded FRI...\")"
      ],
      "metadata": {
        "colab": {
          "base_uri": "https://localhost:8080/"
        },
        "id": "L36fqE3PMMrR",
        "outputId": "6905ebe1-f745-4671-a9a2-f6dd0ccf513d"
      },
      "execution_count": 4,
      "outputs": [
        {
          "output_type": "stream",
          "name": "stdout",
          "text": [
            "Loaded FRI...\n"
          ]
        }
      ]
    },
    {
      "cell_type": "code",
      "source": [
        "# Reading FRII Images\n",
        "imagePaths = list(paths.list_images(r\"/content/FRII\"))\n",
        "\n",
        "for imagePath in imagePaths:\n",
        "  image = cv2.imread(imagePath,cv2.IMREAD_GRAYSCALE)\n",
        "  image = image[124:174,124:174]\n",
        "  data.append(image)\n",
        "  label = 2\n",
        "  labels.append(label)\n",
        "print(\"Loaded FRII...\")"
      ],
      "metadata": {
        "colab": {
          "base_uri": "https://localhost:8080/"
        },
        "id": "xJJ4YbxtMSm5",
        "outputId": "2d6d446f-106a-4458-b1b6-389c5f1dd884"
      },
      "execution_count": 5,
      "outputs": [
        {
          "output_type": "stream",
          "name": "stdout",
          "text": [
            "Loaded FRII...\n"
          ]
        }
      ]
    },
    {
      "cell_type": "code",
      "source": [
        "# Reading FR0 Images  \n",
        "imagePaths = list(paths.list_images(r\"/content/FR0\"))\n",
        "\n",
        "for imagePath in imagePaths:\n",
        "  image = cv2.imread(imagePath,cv2.IMREAD_GRAYSCALE)\n",
        "  image = image[124:174,124:174]\n",
        "  data.append(image)\n",
        "  label = 0\n",
        "  labels.append(label)\n",
        "print(\"Loaded FR0...\")"
      ],
      "metadata": {
        "colab": {
          "base_uri": "https://localhost:8080/"
        },
        "id": "HiiVAZtZMbsy",
        "outputId": "f184d0cc-9754-4756-d56b-a75cc8ac98c7"
      },
      "execution_count": 6,
      "outputs": [
        {
          "output_type": "stream",
          "name": "stdout",
          "text": [
            "Loaded FR0...\n"
          ]
        }
      ]
    },
    {
      "cell_type": "code",
      "source": [
        "labels = np.array(labels,dtype='uint8')\n",
        "data = np.array(data,dtype='uint8')\n",
        "\n",
        "# Flatten Images\n",
        "data = data.reshape((len(data),50*50))\n",
        "data = pd.DataFrame(data)\n",
        "labels = pd.DataFrame(labels)\n",
        "BB = pd.concat([data,labels], axis=1)\n",
        "FRI = BB[0:5008]\n",
        "FRII = BB[5008:7074]\n",
        "FR0 = BB[7074::] "
      ],
      "metadata": {
        "id": "bcC0oiArMmCy"
      },
      "execution_count": 7,
      "outputs": []
    },
    {
      "cell_type": "code",
      "source": [
        "\n",
        "# Choose Number of Samples per Class ; Max is 2000 for a Balanced Dataset\n",
        "samplesize=2000\n",
        "\n",
        "# Balancing the Dataset\n",
        "FRI_s = FRI.sample(n=samplesize,random_state=42)\n",
        "FRII_s = FRII.sample(n=samplesize,random_state=42)\n",
        "FR0_s = FR0.sample(n=samplesize,random_state=42)\n",
        "Images_s = pd.concat([FRI_s,FRII_s,FR0_s])\n",
        "Images_s = shuffle(Images_s,random_state=42)\n",
        "lbl = Images_s.iloc[:,-1:]\n",
        "Imgs = Images_s.iloc[:,:-1]\n",
        "\n",
        "# Using PCA\n",
        "pca_fit = PCA(n_components=34)\n",
        "Imgs=pca_fit.fit_transform(Imgs)\n",
        "Imgs = np.array(Imgs)\n",
        "lbl = np.array(lbl)\n",
        "\n",
        "ConfMat_CAT = []\n",
        "TTrain_CAT = []\n",
        "TTest_CAT = []\n",
        "ConfMat_LGB = []\n",
        "TTrain_LGB = []\n",
        "TTest_LGB = []\n",
        "ConfMat_XGB = []\n",
        "TTrain_XGB = []\n",
        "TTest_XGB = []\n",
        "\n",
        "# Setting up Repeated K Fold\n",
        "kf = RepeatedKFold(n_splits=5,n_repeats=10,random_state=42)\n",
        "\n",
        "count=0\n",
        "\n",
        "for train_index, test_index in kf.split(Imgs):\n",
        "  trainX, testX = Imgs[train_index], Imgs[test_index]\n",
        "  trainY, testY = lbl[train_index], lbl[test_index]\n",
        "\n",
        "  trainX = np.array(trainX)\n",
        "  testX = np.array(testX)\n",
        "  trainY = np.array(trainY)\n",
        "  testY = np.array(testY)\n",
        "  \n",
        "  # Train & Test CatBoost Classifier\n",
        "  # boosting_type='Ordered' is slow ; For faster execution consider using boosting_type='Plain'\n",
        "  clf = ctb.CatBoostClassifier(logging_level='Silent',classes_count=3,boosting_type='Ordered',learning_rate=0.1,l2_leaf_reg=3,max_depth=6,loss_function='MultiClass')\n",
        "  start = dt.now()\n",
        "  clf.fit(trainX,trainY.ravel())\n",
        "  time = (dt.now() - start).total_seconds()\n",
        "  TTrain_CAT.append(time)\n",
        "  start = dt.now()\n",
        "  predY=clf.predict(testX)\n",
        "  time = (dt.now() - start).total_seconds()\n",
        "  TTest_CAT.append(time)\n",
        "  ConfMat=confusion_matrix(testY,predY)\n",
        "  ConfMat_CAT.append(ConfMat)\n",
        "\n",
        "  # Train & Test LightGBM Classifier\n",
        "  clf = lgb.LGBMClassifier(objective='multiclass',num_class=3)\n",
        "  start = dt.now()\n",
        "  clf.fit(trainX,trainY.ravel())\n",
        "  time = (dt.now() - start).total_seconds()\n",
        "  TTrain_LGB.append(time)\n",
        "  start = dt.now()\n",
        "  predY=clf.predict(testX)\n",
        "  time = (dt.now() - start).total_seconds()\n",
        "  TTest_LGB.append(time)\n",
        "  ConfMat=confusion_matrix(testY,predY)\n",
        "  ConfMat_LGB.append(ConfMat)\n",
        "\n",
        "  # Train & Test XGB Classifier\n",
        "  clf = xgb.XGBClassifier(booster='gbtree',objective='multi:softmax',num_class=3,learning_rate=0.3,gamma=0,max_depth=9)\n",
        "  start = dt.now()\n",
        "  clf.fit(trainX,trainY.ravel())\n",
        "  time = (dt.now() - start).total_seconds()\n",
        "  TTrain_XGB.append(time)\n",
        "  start = dt.now()\n",
        "  predY=clf.predict(testX)\n",
        "  time = (dt.now() - start).total_seconds()\n",
        "  TTest_XGB.append(time)\n",
        "  ConfMat=confusion_matrix(testY,predY)\n",
        "  ConfMat_XGB.append(ConfMat)\n",
        "\n",
        "  count+=1\n",
        "  print(count,'/','50 Iterations Done')"
      ],
      "metadata": {
        "id": "seiv6e00NOia",
        "colab": {
          "base_uri": "https://localhost:8080/"
        },
        "outputId": "a5a4769e-9077-40d9-9246-3a5531f28166"
      },
      "execution_count": 8,
      "outputs": [
        {
          "output_type": "stream",
          "name": "stdout",
          "text": [
            "1 / 50 Iterations Done\n",
            "2 / 50 Iterations Done\n",
            "3 / 50 Iterations Done\n",
            "4 / 50 Iterations Done\n",
            "5 / 50 Iterations Done\n",
            "6 / 50 Iterations Done\n",
            "7 / 50 Iterations Done\n",
            "8 / 50 Iterations Done\n",
            "9 / 50 Iterations Done\n",
            "10 / 50 Iterations Done\n",
            "11 / 50 Iterations Done\n",
            "12 / 50 Iterations Done\n",
            "13 / 50 Iterations Done\n",
            "14 / 50 Iterations Done\n",
            "15 / 50 Iterations Done\n",
            "16 / 50 Iterations Done\n",
            "17 / 50 Iterations Done\n",
            "18 / 50 Iterations Done\n",
            "19 / 50 Iterations Done\n",
            "20 / 50 Iterations Done\n",
            "21 / 50 Iterations Done\n",
            "22 / 50 Iterations Done\n",
            "23 / 50 Iterations Done\n",
            "24 / 50 Iterations Done\n",
            "25 / 50 Iterations Done\n",
            "26 / 50 Iterations Done\n",
            "27 / 50 Iterations Done\n",
            "28 / 50 Iterations Done\n",
            "29 / 50 Iterations Done\n",
            "30 / 50 Iterations Done\n",
            "31 / 50 Iterations Done\n",
            "32 / 50 Iterations Done\n",
            "33 / 50 Iterations Done\n",
            "34 / 50 Iterations Done\n",
            "35 / 50 Iterations Done\n",
            "36 / 50 Iterations Done\n",
            "37 / 50 Iterations Done\n",
            "38 / 50 Iterations Done\n",
            "39 / 50 Iterations Done\n",
            "40 / 50 Iterations Done\n",
            "41 / 50 Iterations Done\n",
            "42 / 50 Iterations Done\n",
            "43 / 50 Iterations Done\n",
            "44 / 50 Iterations Done\n",
            "45 / 50 Iterations Done\n",
            "46 / 50 Iterations Done\n",
            "47 / 50 Iterations Done\n",
            "48 / 50 Iterations Done\n",
            "49 / 50 Iterations Done\n",
            "50 / 50 Iterations Done\n"
          ]
        }
      ]
    },
    {
      "cell_type": "code",
      "source": [
        "# Plotting and Displaying Results\n",
        "\n",
        "CAT=np.sum(ConfMat_CAT,axis = 0)\n",
        "print(\"\\n\\nCAT Confusion Matrix:\")\n",
        "print(CAT)\n",
        "disp = ConfusionMatrixDisplay(confusion_matrix=CAT, display_labels=clf.classes_)\n",
        "disp.plot()\n",
        "plt.show()\n",
        "APR=CAT\n",
        "CAT_acc=(APR[0,0]+APR[1,1]+APR[2,2])/np.sum(APR)\n",
        "CAT_FR0_P=APR[0,0]/sum(APR[:,0])\n",
        "CAT_FR1_P=APR[1,1]/sum(APR[:,1])\n",
        "CAT_FR2_P=APR[2,2]/sum(APR[:,2])\n",
        "CAT_FR0_R=APR[0,0]/sum(APR[0,:])\n",
        "CAT_FR1_R=APR[1,1]/sum(APR[1,:])\n",
        "CAT_FR2_R=APR[2,2]/sum(APR[2,:])\n",
        "CAT_FR0_F1=2*(CAT_FR0_P*CAT_FR0_R)/(CAT_FR0_P+CAT_FR0_R)\n",
        "CAT_FR1_F1=2*(CAT_FR1_P*CAT_FR1_R)/(CAT_FR1_P+CAT_FR1_R)\n",
        "CAT_FR2_F1=2*(CAT_FR2_P*CAT_FR2_R)/(CAT_FR2_P+CAT_FR2_R)\n",
        "print(\"\\nCAT Performance:\")\n",
        "print(\"CAT Accuracy: \" + str(CAT_acc))\n",
        "print(\"CAT Precision FR0: \" + str(CAT_FR0_P))\n",
        "print(\"CAT Precision FRI: \" + str(CAT_FR1_P))\n",
        "print(\"CAT Precision FRII: \" + str(CAT_FR2_P))\n",
        "print(\"CAT Recall FR0: \" + str(CAT_FR0_R))\n",
        "print(\"CAT Recall FRI: \" + str(CAT_FR1_R))\n",
        "print(\"CAT Recall FRII: \" + str(CAT_FR2_R))\n",
        "print(\"CAT F1 FR0: \" + str(CAT_FR0_F1))\n",
        "print(\"CAT F1 FRI: \" + str(CAT_FR1_F1))\n",
        "print(\"CAT F1 FRII: \" + str(CAT_FR2_F1))\n",
        "print(\"CAT Training Time: \" + str(mean(TTrain_CAT)))\n",
        "print(\"CAT Testing Time: \" + str(mean(TTest_CAT)))\n",
        "\n",
        "LGB=np.sum(ConfMat_LGB,axis = 0)\n",
        "print(\"\\n\\nLGB Confusion Matrix:\")\n",
        "print(LGB)\n",
        "disp = ConfusionMatrixDisplay(confusion_matrix=LGB, display_labels=clf.classes_)\n",
        "disp.plot()\n",
        "plt.show()\n",
        "APR=LGB\n",
        "LGB_acc=(APR[0,0]+APR[1,1]+APR[2,2])/np.sum(APR)\n",
        "LGB_FR0_P=APR[0,0]/sum(APR[:,0])\n",
        "LGB_FR1_P=APR[1,1]/sum(APR[:,1])\n",
        "LGB_FR2_P=APR[2,2]/sum(APR[:,2])\n",
        "LGB_FR0_R=APR[0,0]/sum(APR[0,:])\n",
        "LGB_FR1_R=APR[1,1]/sum(APR[1,:])\n",
        "LGB_FR2_R=APR[2,2]/sum(APR[2,:])\n",
        "LGB_FR0_F1=2*(LGB_FR0_P*LGB_FR0_R)/(LGB_FR0_P+LGB_FR0_R)\n",
        "LGB_FR1_F1=2*(LGB_FR1_P*LGB_FR1_R)/(LGB_FR1_P+LGB_FR1_R)\n",
        "LGB_FR2_F1=2*(LGB_FR2_P*LGB_FR2_R)/(LGB_FR2_P+LGB_FR2_R)\n",
        "print(\"\\nLGB Performance:\")\n",
        "print(\"LGB Accuracy: \" + str(LGB_acc))\n",
        "print(\"LGB Precision FR0: \" + str(LGB_FR0_P))\n",
        "print(\"LGB Precision FRI: \" + str(LGB_FR1_P))\n",
        "print(\"LGB Precision FRII: \" + str(LGB_FR2_P))\n",
        "print(\"LGB Recall FR0: \" + str(LGB_FR0_R))\n",
        "print(\"LGB Recall FRI: \" + str(LGB_FR1_R))\n",
        "print(\"LGB Recall FRII: \" + str(LGB_FR2_R))\n",
        "print(\"LGB F1 FR0: \" + str(LGB_FR0_F1))\n",
        "print(\"LGB F1 FRI: \" + str(LGB_FR1_F1))\n",
        "print(\"LGB F1 FRII: \" + str(LGB_FR2_F1))\n",
        "print(\"LGB Training Time: \" + str(mean(TTrain_LGB)))\n",
        "print(\"LGB Testing Time: \" + str(mean(TTest_LGB)))\n",
        "\n",
        "XGB=np.sum(ConfMat_XGB,axis = 0)\n",
        "print(\"\\n\\nXGB Confusion Matrix:\")\n",
        "print(XGB)\n",
        "disp = ConfusionMatrixDisplay(confusion_matrix=XGB, display_labels=clf.classes_)\n",
        "disp.plot()\n",
        "plt.show()\n",
        "APR=XGB\n",
        "XGB_acc=(APR[0,0]+APR[1,1]+APR[2,2])/np.sum(APR)\n",
        "XGB_FR0_P=APR[0,0]/sum(APR[:,0])\n",
        "XGB_FR1_P=APR[1,1]/sum(APR[:,1])\n",
        "XGB_FR2_P=APR[2,2]/sum(APR[:,2])\n",
        "XGB_FR0_R=APR[0,0]/sum(APR[0,:])\n",
        "XGB_FR1_R=APR[1,1]/sum(APR[1,:])\n",
        "XGB_FR2_R=APR[2,2]/sum(APR[2,:])\n",
        "XGB_FR0_F1=2*(XGB_FR0_P*XGB_FR0_R)/(XGB_FR0_P+XGB_FR0_R)\n",
        "XGB_FR1_F1=2*(XGB_FR1_P*XGB_FR1_R)/(XGB_FR1_P+XGB_FR1_R)\n",
        "XGB_FR2_F1=2*(XGB_FR2_P*XGB_FR2_R)/(XGB_FR2_P+XGB_FR2_R)\n",
        "print(\"\\nXGB Performance:\")\n",
        "print(\"XGB Accuracy: \" + str(XGB_acc))\n",
        "print(\"XGB Precision FR0: \" + str(XGB_FR0_P))\n",
        "print(\"XGB Precision FRI: \" + str(XGB_FR1_P))\n",
        "print(\"XGB Precision FRII: \" + str(XGB_FR2_P))\n",
        "print(\"XGB Recall FR0: \" + str(XGB_FR0_R))\n",
        "print(\"XGB Recall FRI: \" + str(XGB_FR1_R))\n",
        "print(\"XGB Recall FRII: \" + str(XGB_FR2_R))\n",
        "print(\"XGB F1 FR0: \" + str(XGB_FR0_F1))\n",
        "print(\"XGB F1 FRI: \" + str(XGB_FR1_F1))\n",
        "print(\"XGB F1 FRII: \" + str(XGB_FR2_F1))\n",
        "print(\"XGB Training Time: \" + str(mean(TTrain_XGB)))\n",
        "print(\"XGB Testing Time: \" + str(mean(TTest_XGB)))"
      ],
      "metadata": {
        "colab": {
          "base_uri": "https://localhost:8080/",
          "height": 1000
        },
        "id": "cpGTETHoNlwS",
        "outputId": "8c14bdda-3475-4cdb-8e6f-fe197d502601"
      },
      "execution_count": 9,
      "outputs": [
        {
          "output_type": "stream",
          "name": "stdout",
          "text": [
            "\n",
            "\n",
            "CAT Confusion Matrix:\n",
            "[[17566  1736   698]\n",
            " [ 2179 15363  2458]\n",
            " [  973  2445 16582]]\n"
          ]
        },
        {
          "output_type": "display_data",
          "data": {
            "text/plain": [
              "<Figure size 640x480 with 2 Axes>"
            ],
            "image/png": "[encoded data removed]"
          },
          "metadata": {}
        },
        {
          "output_type": "stream",
          "name": "stdout",
          "text": [
            "\n",
            "CAT Performance:\n",
            "CAT Accuracy: 0.8251833333333334\n",
            "CAT Precision FR0: 0.8478617627184091\n",
            "CAT Precision FRI: 0.7860724519033975\n",
            "CAT Precision FRII: 0.8401053804843449\n",
            "CAT Recall FR0: 0.8783\n",
            "CAT Recall FRI: 0.76815\n",
            "CAT Recall FRII: 0.8291\n",
            "CAT F1 FR0: 0.8628125153494768\n",
            "CAT F1 FRI: 0.7770078899453773\n",
            "CAT F1 FRII: 0.8345664099854044\n",
            "CAT Training Time: 135.16523924\n",
            "CAT Testing Time: 0.02076784\n",
            "\n",
            "\n",
            "LGB Confusion Matrix:\n",
            "[[17439  1900   661]\n",
            " [ 2215 15254  2531]\n",
            " [ 1015  2491 16494]]\n"
          ]
        },
        {
          "output_type": "display_data",
          "data": {
            "text/plain": [
              "<Figure size 640x480 with 2 Axes>"
            ],
            "image/png": "[encoded data removed]"
          },
          "metadata": {}
        },
        {
          "output_type": "stream",
          "name": "stdout",
          "text": [
            "\n",
            "LGB Performance:\n",
            "LGB Accuracy: 0.8197833333333333\n",
            "LGB Precision FR0: 0.843727321108907\n",
            "LGB Precision FRI: 0.7764825655383049\n",
            "LGB Precision FRII: 0.8378543127095398\n",
            "LGB Recall FR0: 0.87195\n",
            "LGB Recall FRI: 0.7627\n",
            "LGB Recall FRII: 0.8247\n",
            "LGB F1 FR0: 0.8576065307728246\n",
            "LGB F1 FRI: 0.7695295749779291\n",
            "LGB F1 FRII: 0.8312251171697829\n",
            "LGB Training Time: 1.8869928200000001\n",
            "LGB Testing Time: 0.02363082\n",
            "\n",
            "\n",
            "XGB Confusion Matrix:\n",
            "[[17385  1925   690]\n",
            " [ 2156 15321  2523]\n",
            " [ 1017  2561 16422]]\n"
          ]
        },
        {
          "output_type": "display_data",
          "data": {
            "text/plain": [
              "<Figure size 640x480 with 2 Axes>"
            ],
            "image/png": "[encoded data removed]"
          },
          "metadata": {}
        },
        {
          "output_type": "stream",
          "name": "stdout",
          "text": [
            "\n",
            "XGB Performance:\n",
            "XGB Accuracy: 0.8188\n",
            "XGB Precision FR0: 0.8456561922365989\n",
            "XGB Precision FRI: 0.7735144140960266\n",
            "XGB Precision FRII: 0.8363636363636363\n",
            "XGB Recall FR0: 0.86925\n",
            "XGB Recall FRI: 0.76605\n",
            "XGB Recall FRII: 0.8211\n",
            "XGB F1 FR0: 0.8572907934316287\n",
            "XGB F1 FRI: 0.7697641118396261\n",
            "XGB F1 FRII: 0.8286615365207518\n",
            "XGB Training Time: 14.14074582\n",
            "XGB Testing Time: 0.01574426\n"
          ]
        }
      ]
    }
  ]
}